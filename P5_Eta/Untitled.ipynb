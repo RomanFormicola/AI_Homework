{
 "cells": [
  {
   "cell_type": "markdown",
   "metadata": {},
   "source": [
    "## Project 5"
   ]
  },
  {
   "cell_type": "markdown",
   "metadata": {},
   "source": [
    "**1)** Group Eta: Roman Formicola"
   ]
  },
  {
   "cell_type": "markdown",
   "metadata": {},
   "source": [
    "**a)**\n",
    "\n",
    "$P(class=1) = 1/4\\\\\n",
    "P(class=2) = 1/2\\\\\n",
    "P(class=3) = 1/4\\\\\n",
    "|V| = 14\\\\\n",
    "\\hat{P}(t|c) = (N_{ct} + 1)/(N_{c} + 2)$"
   ]
  },
  {
   "cell_type": "markdown",
   "metadata": {},
   "source": [
    "**i**)  $P(X_{peony}=T | class=2) = 3/4$"
   ]
  },
  {
   "cell_type": "markdown",
   "metadata": {},
   "source": [
    "**ii)** $P(X_{crocus}=T|class=2) = 1/2$"
   ]
  },
  {
   "cell_type": "markdown",
   "metadata": {},
   "source": [
    "**iii)** $P(X_{peony}=T|class=1) = 2/3$"
   ]
  },
  {
   "cell_type": "markdown",
   "metadata": {},
   "source": [
    "**b)**\n",
    "\n",
    "$P(t | c) = (count(t, c) + 1)/(count(t) + |v|)$\n"
   ]
  },
  {
   "cell_type": "markdown",
   "metadata": {},
   "source": [
    "**i**) $P(X = peony | class=2) = (4+1) / (14+14) = 5/28$"
   ]
  },
  {
   "cell_type": "markdown",
   "metadata": {},
   "source": [
    "**ii)** $P(X=crocus | class=2) = (1+1)/(14+14) = 2/28 = 1/14$ "
   ]
  },
  {
   "cell_type": "markdown",
   "metadata": {},
   "source": [
    "**iii)** $P(X=peony|class=1) = (1+1)/(8+14) = 2/22 = 1/11$"
   ]
  },
  {
   "cell_type": "markdown",
   "metadata": {},
   "source": [
    "**c)**\n",
    "\n",
    "$P(d | class = 1)= P(1)*P(X_{daffodil}=T|class=1)*P(X_{crocus}=T|class=1)*P(X_{daisy}=T|class=1)*P(X_{tulip}=T|class=1)\\\\\n",
    "*P(X_{clematis}=T|class=1)*P(X_{peony}=T|class=1) = (1/4)*(1/3)*(1/3)*(1/3)*(2/3)*(2/3)*(2/3) \\approx 0.002743$"
   ]
  },
  {
   "cell_type": "markdown",
   "metadata": {},
   "source": [
    "$P(d | class = 2)= P(2)*P(X_{daffodil}=T|class=2)*P(X_{crocus}=T|class=2)*P(X_{daisy}=T|class=2)*P(X_{tulip}=T|class=2)\\\\\n",
    "*P(X_{clematis}=T|class=2)*P(X_{peony}=T|class=2) = (1/2)*(1/2)*(1/2)*(1/4)*(1/4)*(3/4)*(3/4) \\approx 0.0043945$"
   ]
  },
  {
   "cell_type": "markdown",
   "metadata": {},
   "source": [
    "$P(d | class = 3)= P(3)*P(X_{daffodil}=T|class=3)*P(X_{crocus}=T|class=3)*P(X_{daisy}=T|class=3)*P(X_{tulip}=T|class=3)\\\\\n",
    "*P(X_{clematis}=T|class=3)*P(X_{peony}=T|class=3) = (1/4)*(1/3)*(1/3)*(2/3)*(2/3)*(1/3)*(1/3)\\approx 0.00137174$"
   ]
  },
  {
   "cell_type": "markdown",
   "metadata": {},
   "source": [
    "Predicted class for document: daffodil crocus daisy tulip clematis peony = 2"
   ]
  },
  {
   "cell_type": "markdown",
   "metadata": {},
   "source": [
    "**d)**"
   ]
  },
  {
   "cell_type": "markdown",
   "metadata": {},
   "source": [
    "$P(d|class=1)=P(X=daffodil|class=1)*P(X=crocus|class=1)*P(X=daisy|class=1)*P(X=tulip|class=1)*P(X=clemantis|class=1)*P(X=peony|class=1)=(1/4)*(1/22)*(1/22)*(1/22)*(1/11)*(1/11)*(1/11) \\approx 1.76398*10^{-8}$"
   ]
  },
  {
   "cell_type": "markdown",
   "metadata": {},
   "source": [
    "$P(d|class=2)=P(X=daffodil|class=2)*P(X=crocus|class=2)*P(X=daisy|class=2)*P(X=tulip|class=2)*P(X=clemantis|class=2)*P(X=peony|class=2)=(1/2)*(1/14)*(1/14)*(1/28)*(1/28)*(5/28)*(5/28) \\approx 1.03758*10^{-7}$"
   ]
  },
  {
   "cell_type": "markdown",
   "metadata": {},
   "source": [
    "$P(d|class=3)=P(X=daffodil|class=3)*P(X=crocus|class=3)*P(X=daisy|class=3)*P(X=tulip|class=3)*P(X=clemantis|class=3)*P(X=peony|class=3)=(1/4)*(1/21)*(1/21)*(2/21)*(3/21)*(1/21)*(1/21) \\approx 1.74894*10^{-8}$"
   ]
  },
  {
   "cell_type": "markdown",
   "metadata": {},
   "source": [
    "Predicted class for document: daffodil crocus daisy tulip clematis peony = 2"
   ]
  },
  {
   "cell_type": "code",
   "execution_count": null,
   "metadata": {},
   "outputs": [],
   "source": []
  }
 ],
 "metadata": {
  "kernelspec": {
   "display_name": "Python 3",
   "language": "python",
   "name": "python3"
  },
  "language_info": {
   "codemirror_mode": {
    "name": "ipython",
    "version": 3
   },
   "file_extension": ".py",
   "mimetype": "text/x-python",
   "name": "python",
   "nbconvert_exporter": "python",
   "pygments_lexer": "ipython3",
   "version": "3.8.3"
  }
 },
 "nbformat": 4,
 "nbformat_minor": 4
}
