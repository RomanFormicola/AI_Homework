{
 "cells": [
  {
   "cell_type": "markdown",
   "metadata": {},
   "source": [
    "## Project 5"
   ]
  },
  {
   "cell_type": "markdown",
   "metadata": {},
   "source": [
    "**1)** Group Eta: Roman Formicola"
   ]
  },
  {
   "cell_type": "markdown",
   "metadata": {},
   "source": [
    "**2) a)**\n",
    "\n",
    "$P(class=1) = 1/4\\\\\n",
    "P(class=2) = 1/2\\\\\n",
    "P(class=3) = 1/4\\\\\n",
    "|V| = 14\\\\\n",
    "\\hat{P}(t|c) = (N_{ct} + 1)/(N_{c} + 2)$"
   ]
  },
  {
   "cell_type": "markdown",
   "metadata": {},
   "source": [
    "**i**)  $P(X_{peony}=T | class=2) = 3/4$"
   ]
  },
  {
   "cell_type": "markdown",
   "metadata": {},
   "source": [
    "**ii)** $P(X_{crocus}=T|class=2) = 1/2$"
   ]
  },
  {
   "cell_type": "markdown",
   "metadata": {},
   "source": [
    "**iii)** $P(X_{peony}=T|class=1) = 2/3$"
   ]
  },
  {
   "cell_type": "markdown",
   "metadata": {},
   "source": [
    "**b)**\n",
    "\n",
    "$P(t | c) = (count(t, c) + 1)/(count(t) + |v|)$\n"
   ]
  },
  {
   "cell_type": "markdown",
   "metadata": {},
   "source": [
    "**i**) $P(X = peony | class=2) = (4+1) / (14+14) = 5/28$"
   ]
  },
  {
   "cell_type": "markdown",
   "metadata": {},
   "source": [
    "**ii)** $P(X=crocus | class=2) = (1+1)/(14+14) = 2/28 = 1/14$ "
   ]
  },
  {
   "cell_type": "markdown",
   "metadata": {},
   "source": [
    "**iii)** $P(X=peony|class=1) = (1+1)/(8+14) = 2/22 = 1/11$"
   ]
  },
  {
   "cell_type": "markdown",
   "metadata": {},
   "source": [
    "**c)**\n",
    "\n",
    "$P(d | class = 1)= P(1)*P(X_{daffodil}=T|class=1)*P(X_{crocus}=T|class=1)*P(X_{daisy}=T|class=1)*P(X_{tulip}=T|class=1)\\\\\n",
    "*P(X_{clematis}=T|class=1)*P(X_{peony}=T|class=1) = (1/4)*(1/3)*(1/3)*(1/3)*(2/3)*(2/3)*(2/3) \\approx 0.002743$"
   ]
  },
  {
   "cell_type": "markdown",
   "metadata": {},
   "source": [
    "$P(d | class = 2)= P(2)*P(X_{daffodil}=T|class=2)*P(X_{crocus}=T|class=2)*P(X_{daisy}=T|class=2)*P(X_{tulip}=T|class=2)\\\\\n",
    "*P(X_{clematis}=T|class=2)*P(X_{peony}=T|class=2) = (1/2)*(1/2)*(1/2)*(1/4)*(1/4)*(3/4)*(3/4) \\approx 0.0043945$"
   ]
  },
  {
   "cell_type": "markdown",
   "metadata": {},
   "source": [
    "$P(d | class = 3)= P(3)*P(X_{daffodil}=T|class=3)*P(X_{crocus}=T|class=3)*P(X_{daisy}=T|class=3)*P(X_{tulip}=T|class=3)\\\\\n",
    "*P(X_{clematis}=T|class=3)*P(X_{peony}=T|class=3) = (1/4)*(1/3)*(1/3)*(2/3)*(2/3)*(1/3)*(1/3)\\approx 0.00137174$"
   ]
  },
  {
   "cell_type": "markdown",
   "metadata": {},
   "source": [
    "Predicted class for document: daffodil crocus daisy tulip clematis peony = 2"
   ]
  },
  {
   "cell_type": "markdown",
   "metadata": {},
   "source": [
    "**d)**"
   ]
  },
  {
   "cell_type": "markdown",
   "metadata": {},
   "source": [
    "$P(d|class=1)=P(X=daffodil|class=1)*P(X=crocus|class=1)*P(X=daisy|class=1)*P(X=tulip|class=1)*P(X=clemantis|class=1)*P(X=peony|class=1)=(1/4)*(1/22)*(1/22)*(1/22)*(1/11)*(1/11)*(1/11) \\approx 1.76398*10^{-8}$"
   ]
  },
  {
   "cell_type": "markdown",
   "metadata": {},
   "source": [
    "$P(d|class=2)=P(X=daffodil|class=2)*P(X=crocus|class=2)*P(X=daisy|class=2)*P(X=tulip|class=2)*P(X=clemantis|class=2)*P(X=peony|class=2)=(1/2)*(1/14)*(1/14)*(1/28)*(1/28)*(5/28)*(5/28) \\approx 1.03758*10^{-7}$"
   ]
  },
  {
   "cell_type": "markdown",
   "metadata": {},
   "source": [
    "$P(d|class=3)=P(X=daffodil|class=3)*P(X=crocus|class=3)*P(X=daisy|class=3)*P(X=tulip|class=3)*P(X=clemantis|class=3)*P(X=peony|class=3)=(1/4)*(1/21)*(1/21)*(2/21)*(3/21)*(1/21)*(1/21) \\approx 1.74894*10^{-8}$"
   ]
  },
  {
   "cell_type": "markdown",
   "metadata": {},
   "source": [
    "Predicted class for document: daffodil crocus daisy tulip clematis peony = 2"
   ]
  },
  {
   "cell_type": "markdown",
   "metadata": {},
   "source": [
    "**3)**"
   ]
  },
  {
   "cell_type": "markdown",
   "metadata": {},
   "source": [
    "**a)**"
   ]
  },
  {
   "cell_type": "code",
   "execution_count": 6,
   "metadata": {},
   "outputs": [
    {
     "data": {
      "text/html": [
       "<style  type=\"text/css\" >\n",
       "</style><table id=\"T_dde82352_9c80_11eb_9327_f13437decb9e\" ><caption>Term Document Matrix</caption><thead>    <tr>        <th class=\"blank level0\" ></th>        <th class=\"col_heading level0 col0\" >cat</th>        <th class=\"col_heading level0 col1\" >bat</th>        <th class=\"col_heading level0 col2\" >rat</th>        <th class=\"col_heading level0 col3\" >fat</th>        <th class=\"col_heading level0 col4\" >mat</th>        <th class=\"col_heading level0 col5\" >pat</th>        <th class=\"col_heading level0 col6\" >sat</th>    </tr></thead><tbody>\n",
       "                <tr>\n",
       "                        <th id=\"T_dde82352_9c80_11eb_9327_f13437decb9elevel0_row0\" class=\"row_heading level0 row0\" >0</th>\n",
       "                        <td id=\"T_dde82352_9c80_11eb_9327_f13437decb9erow0_col0\" class=\"data row0 col0\" >1</td>\n",
       "                        <td id=\"T_dde82352_9c80_11eb_9327_f13437decb9erow0_col1\" class=\"data row0 col1\" >1</td>\n",
       "                        <td id=\"T_dde82352_9c80_11eb_9327_f13437decb9erow0_col2\" class=\"data row0 col2\" >1</td>\n",
       "                        <td id=\"T_dde82352_9c80_11eb_9327_f13437decb9erow0_col3\" class=\"data row0 col3\" >1</td>\n",
       "                        <td id=\"T_dde82352_9c80_11eb_9327_f13437decb9erow0_col4\" class=\"data row0 col4\" >0</td>\n",
       "                        <td id=\"T_dde82352_9c80_11eb_9327_f13437decb9erow0_col5\" class=\"data row0 col5\" >0</td>\n",
       "                        <td id=\"T_dde82352_9c80_11eb_9327_f13437decb9erow0_col6\" class=\"data row0 col6\" >0</td>\n",
       "            </tr>\n",
       "            <tr>\n",
       "                        <th id=\"T_dde82352_9c80_11eb_9327_f13437decb9elevel0_row1\" class=\"row_heading level0 row1\" >1</th>\n",
       "                        <td id=\"T_dde82352_9c80_11eb_9327_f13437decb9erow1_col0\" class=\"data row1 col0\" >0</td>\n",
       "                        <td id=\"T_dde82352_9c80_11eb_9327_f13437decb9erow1_col1\" class=\"data row1 col1\" >1</td>\n",
       "                        <td id=\"T_dde82352_9c80_11eb_9327_f13437decb9erow1_col2\" class=\"data row1 col2\" >1</td>\n",
       "                        <td id=\"T_dde82352_9c80_11eb_9327_f13437decb9erow1_col3\" class=\"data row1 col3\" >0</td>\n",
       "                        <td id=\"T_dde82352_9c80_11eb_9327_f13437decb9erow1_col4\" class=\"data row1 col4\" >1</td>\n",
       "                        <td id=\"T_dde82352_9c80_11eb_9327_f13437decb9erow1_col5\" class=\"data row1 col5\" >1</td>\n",
       "                        <td id=\"T_dde82352_9c80_11eb_9327_f13437decb9erow1_col6\" class=\"data row1 col6\" >0</td>\n",
       "            </tr>\n",
       "            <tr>\n",
       "                        <th id=\"T_dde82352_9c80_11eb_9327_f13437decb9elevel0_row2\" class=\"row_heading level0 row2\" >2</th>\n",
       "                        <td id=\"T_dde82352_9c80_11eb_9327_f13437decb9erow2_col0\" class=\"data row2 col0\" >1</td>\n",
       "                        <td id=\"T_dde82352_9c80_11eb_9327_f13437decb9erow2_col1\" class=\"data row2 col1\" >0</td>\n",
       "                        <td id=\"T_dde82352_9c80_11eb_9327_f13437decb9erow2_col2\" class=\"data row2 col2\" >1</td>\n",
       "                        <td id=\"T_dde82352_9c80_11eb_9327_f13437decb9erow2_col3\" class=\"data row2 col3\" >1</td>\n",
       "                        <td id=\"T_dde82352_9c80_11eb_9327_f13437decb9erow2_col4\" class=\"data row2 col4\" >1</td>\n",
       "                        <td id=\"T_dde82352_9c80_11eb_9327_f13437decb9erow2_col5\" class=\"data row2 col5\" >1</td>\n",
       "                        <td id=\"T_dde82352_9c80_11eb_9327_f13437decb9erow2_col6\" class=\"data row2 col6\" >1</td>\n",
       "            </tr>\n",
       "    </tbody></table>"
      ],
      "text/plain": [
       "<pandas.io.formats.style.Styler at 0x7fa7ec6cd940>"
      ]
     },
     "execution_count": 6,
     "metadata": {},
     "output_type": "execute_result"
    }
   ],
   "source": [
    "import pandas as pd\n",
    "\n",
    "term_doc_matrix = [[1, 1, 1, 1, 0, 0, 0], [0, 1, 1, 0, 1, 1, 0], [1, 0, 1, 1, 1, 1, 1]]\n",
    "df = pd.DataFrame(term_doc_matrix, columns=[\"cat\", \"bat\", \"rat\", \"fat\", \"mat\", \"pat\", \"sat\"])\n",
    "df.style.set_caption(\"Term Document Matrix\")"
   ]
  },
  {
   "cell_type": "markdown",
   "metadata": {},
   "source": [
    "**b)** Note: I used $Log_{10}(1+tf_{t,d})*Log_{10}(N/df_{t})$  for TF-IDF weights"
   ]
  },
  {
   "cell_type": "code",
   "execution_count": 8,
   "metadata": {},
   "outputs": [
    {
     "data": {
      "text/html": [
       "<style  type=\"text/css\" >\n",
       "</style><table id=\"T_e26ff016_9c81_11eb_9327_f13437decb9e\" ><caption>TF-IDF Matrix</caption><thead>    <tr>        <th class=\"blank level0\" ></th>        <th class=\"col_heading level0 col0\" >cat</th>        <th class=\"col_heading level0 col1\" >bat</th>        <th class=\"col_heading level0 col2\" >rat</th>        <th class=\"col_heading level0 col3\" >fat</th>        <th class=\"col_heading level0 col4\" >mat</th>        <th class=\"col_heading level0 col5\" >pat</th>        <th class=\"col_heading level0 col6\" >sat</th>    </tr></thead><tbody>\n",
       "                <tr>\n",
       "                        <th id=\"T_e26ff016_9c81_11eb_9327_f13437decb9elevel0_row0\" class=\"row_heading level0 row0\" >0</th>\n",
       "                        <td id=\"T_e26ff016_9c81_11eb_9327_f13437decb9erow0_col0\" class=\"data row0 col0\" >0.106000</td>\n",
       "                        <td id=\"T_e26ff016_9c81_11eb_9327_f13437decb9erow0_col1\" class=\"data row0 col1\" >0.053000</td>\n",
       "                        <td id=\"T_e26ff016_9c81_11eb_9327_f13437decb9erow0_col2\" class=\"data row0 col2\" >0</td>\n",
       "                        <td id=\"T_e26ff016_9c81_11eb_9327_f13437decb9erow0_col3\" class=\"data row0 col3\" >0.053000</td>\n",
       "                        <td id=\"T_e26ff016_9c81_11eb_9327_f13437decb9erow0_col4\" class=\"data row0 col4\" >0.000000</td>\n",
       "                        <td id=\"T_e26ff016_9c81_11eb_9327_f13437decb9erow0_col5\" class=\"data row0 col5\" >0.000000</td>\n",
       "                        <td id=\"T_e26ff016_9c81_11eb_9327_f13437decb9erow0_col6\" class=\"data row0 col6\" >0.000000</td>\n",
       "            </tr>\n",
       "            <tr>\n",
       "                        <th id=\"T_e26ff016_9c81_11eb_9327_f13437decb9elevel0_row1\" class=\"row_heading level0 row1\" >1</th>\n",
       "                        <td id=\"T_e26ff016_9c81_11eb_9327_f13437decb9erow1_col0\" class=\"data row1 col0\" >0.000000</td>\n",
       "                        <td id=\"T_e26ff016_9c81_11eb_9327_f13437decb9erow1_col1\" class=\"data row1 col1\" >0.106000</td>\n",
       "                        <td id=\"T_e26ff016_9c81_11eb_9327_f13437decb9erow1_col2\" class=\"data row1 col2\" >0</td>\n",
       "                        <td id=\"T_e26ff016_9c81_11eb_9327_f13437decb9erow1_col3\" class=\"data row1 col3\" >0.000000</td>\n",
       "                        <td id=\"T_e26ff016_9c81_11eb_9327_f13437decb9erow1_col4\" class=\"data row1 col4\" >0.053000</td>\n",
       "                        <td id=\"T_e26ff016_9c81_11eb_9327_f13437decb9erow1_col5\" class=\"data row1 col5\" >0.053000</td>\n",
       "                        <td id=\"T_e26ff016_9c81_11eb_9327_f13437decb9erow1_col6\" class=\"data row1 col6\" >0.000000</td>\n",
       "            </tr>\n",
       "            <tr>\n",
       "                        <th id=\"T_e26ff016_9c81_11eb_9327_f13437decb9elevel0_row2\" class=\"row_heading level0 row2\" >2</th>\n",
       "                        <td id=\"T_e26ff016_9c81_11eb_9327_f13437decb9erow2_col0\" class=\"data row2 col0\" >0.053000</td>\n",
       "                        <td id=\"T_e26ff016_9c81_11eb_9327_f13437decb9erow2_col1\" class=\"data row2 col1\" >0.000000</td>\n",
       "                        <td id=\"T_e26ff016_9c81_11eb_9327_f13437decb9erow2_col2\" class=\"data row2 col2\" >0</td>\n",
       "                        <td id=\"T_e26ff016_9c81_11eb_9327_f13437decb9erow2_col3\" class=\"data row2 col3\" >0.053000</td>\n",
       "                        <td id=\"T_e26ff016_9c81_11eb_9327_f13437decb9erow2_col4\" class=\"data row2 col4\" >0.053000</td>\n",
       "                        <td id=\"T_e26ff016_9c81_11eb_9327_f13437decb9erow2_col5\" class=\"data row2 col5\" >0.053000</td>\n",
       "                        <td id=\"T_e26ff016_9c81_11eb_9327_f13437decb9erow2_col6\" class=\"data row2 col6\" >0.143600</td>\n",
       "            </tr>\n",
       "    </tbody></table>"
      ],
      "text/plain": [
       "<pandas.io.formats.style.Styler at 0x7fa7ec7a89a0>"
      ]
     },
     "execution_count": 8,
     "metadata": {},
     "output_type": "execute_result"
    }
   ],
   "source": [
    "TF_IDF = [[0.106, 0.053, 0, 0.053, 0, 0, 0], [0, 0.106, 0, 0, 0.053, 0.053, 0], \n",
    "          [0.053, 0, 0, 0.053, 0.053, 0.053, 0.1436]]\n",
    "df = df = pd.DataFrame(TF_IDF, columns=[\"cat\", \"bat\", \"rat\", \"fat\", \"mat\", \"pat\", \"sat\"])\n",
    "df.style.set_caption(\"TF-IDF Matrix\")"
   ]
  },
  {
   "cell_type": "markdown",
   "metadata": {},
   "source": [
    "**c)** The term-document pair witht the highest TF-IDF weight is (Doc 3, \"sat\")"
   ]
  },
  {
   "cell_type": "code",
   "execution_count": null,
   "metadata": {},
   "outputs": [],
   "source": []
  }
 ],
 "metadata": {
  "kernelspec": {
   "display_name": "Python 3",
   "language": "python",
   "name": "python3"
  },
  "language_info": {
   "codemirror_mode": {
    "name": "ipython",
    "version": 3
   },
   "file_extension": ".py",
   "mimetype": "text/x-python",
   "name": "python",
   "nbconvert_exporter": "python",
   "pygments_lexer": "ipython3",
   "version": "3.8.3"
  }
 },
 "nbformat": 4,
 "nbformat_minor": 4
}
