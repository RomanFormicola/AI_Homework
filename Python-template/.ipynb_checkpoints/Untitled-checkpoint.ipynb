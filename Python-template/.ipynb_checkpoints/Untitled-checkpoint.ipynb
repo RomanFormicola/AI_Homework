{
 "cells": [
  {
   "cell_type": "code",
   "execution_count": null,
   "id": "smart-approval",
   "metadata": {},
   "outputs": [],
   "source": [
    "print(\"Hello Jupyter Notebooks\")"
   ]
  },
  {
   "cell_type": "code",
   "execution_count": null,
   "id": "executed-police",
   "metadata": {},
   "outputs": [],
   "source": []
  }
 ],
 "metadata": {
  "kernelspec": {
   "display_name": "Python 3",
   "language": "python",
   "name": "python3"
  },
  "language_info": {
   "codemirror_mode": {
    "name": "ipython",
    "version": 3
   },
   "file_extension": ".py",
   "mimetype": "text/x-python",
   "name": "python",
   "nbconvert_exporter": "python",
   "pygments_lexer": "ipython3",
   "version": "3.6.12"
  }
 },
 "nbformat": 4,
 "nbformat_minor": 5
}
