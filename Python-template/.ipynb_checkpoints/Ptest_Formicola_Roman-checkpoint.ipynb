{
 "cells": [
  {
   "cell_type": "markdown",
   "id": "irish-detail",
   "metadata": {},
   "source": [
    "# Ptest\n",
    "## Due: 2020/01/21 @ 11:59pm\n",
    "## Roman Formicola\n",
    "*Assignment Objectives:*\n",
    "Upon successful completion of this assignment, a student will be able to:\n",
    "\n",
    "    - Add new text adn code to their assignment solutions\n",
    "    \n",
    "    - Gain experienc ein formatting text using Markdown or LaTeX\n",
    "    \n",
    "    - Install or access to programming software to compete this assignment and subsequent assignments.\n",
    "    "
   ]
  },
  {
   "cell_type": "markdown",
   "id": "rubber-pilot",
   "metadata": {},
   "source": [
    "## Q2"
   ]
  },
  {
   "cell_type": "code",
   "execution_count": 11,
   "id": "amazing-touch",
   "metadata": {},
   "outputs": [
    {
     "name": "stdout",
     "output_type": "stream",
     "text": [
      "Hello World\n",
      "Hello cs4821-cs5831 welcome to 2021\n"
     ]
    }
   ],
   "source": [
    "print(\"Hello World\")\n",
    "v1 = \"cs4821-cs5831\"\n",
    "v2 = 2021\n",
    "print(\"Hello\", v1, \"welcome to\", str(v2))\n"
   ]
  },
  {
   "cell_type": "markdown",
   "id": "pediatric-employer",
   "metadata": {},
   "source": [
    "## Q3"
   ]
  },
  {
   "cell_type": "code",
   "execution_count": null,
   "id": "amazing-serum",
   "metadata": {},
   "outputs": [],
   "source": [
    "#test comment"
   ]
  },
  {
   "cell_type": "code",
   "execution_count": null,
   "id": "existing-norman",
   "metadata": {},
   "outputs": [],
   "source": [
    "'''This is a large comment block\n",
    "that may span multiple lines '''"
   ]
  }
 ],
 "metadata": {
  "kernelspec": {
   "display_name": "Python 3",
   "language": "python",
   "name": "python3"
  },
  "language_info": {
   "codemirror_mode": {
    "name": "ipython",
    "version": 3
   },
   "file_extension": ".py",
   "mimetype": "text/x-python",
   "name": "python",
   "nbconvert_exporter": "python",
   "pygments_lexer": "ipython3",
   "version": "3.6.12"
  }
 },
 "nbformat": 4,
 "nbformat_minor": 5
}
