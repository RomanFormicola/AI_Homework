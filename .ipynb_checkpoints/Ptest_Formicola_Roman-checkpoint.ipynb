{
 "cells": [
  {
   "cell_type": "markdown",
   "metadata": {},
   "source": [
    "# Ptest\n",
    "## Due: 2020/01/21 @ 11:59pm\n",
    "## Roman Formicola\n",
    "*Assignment Objectives:*\n",
    "Upon successful completion of this assignment, a student will be able to:\n",
    "\n",
    "    - Add new text adn code to their assignment solutions\n",
    "    \n",
    "    - Gain experienc ein formatting text using Markdown or LaTeX\n",
    "    \n",
    "    - Install or access to programming software to compete this assignment and subsequent assignments.\n",
    "    "
   ]
  },
  {
   "cell_type": "markdown",
   "metadata": {},
   "source": [
    "## Q2"
   ]
  },
  {
   "cell_type": "code",
   "execution_count": 14,
   "metadata": {},
   "outputs": [
    {
     "name": "stdout",
     "output_type": "stream",
     "text": [
      "Hello World\n",
      "Hello cs4821-cs5831 welcome to 2021\n"
     ]
    }
   ],
   "source": [
    "print(\"Hello World\")\n",
    "v1 = \"cs4821-cs5831\"\n",
    "v2 = 2021\n",
    "print(\"Hello\", v1, \"welcome to\", str(v2))\n"
   ]
  },
  {
   "cell_type": "markdown",
   "metadata": {},
   "source": [
    "## Q3"
   ]
  },
  {
   "cell_type": "code",
   "execution_count": null,
   "metadata": {},
   "outputs": [],
   "source": [
    "#test comment"
   ]
  },
  {
   "cell_type": "code",
   "execution_count": null,
   "metadata": {},
   "outputs": [],
   "source": [
    "'''This is a large comment block\n",
    "that may span multiple lines '''"
   ]
  }
 ],
 "metadata": {
  "kernelspec": {
   "display_name": "Python 3",
   "language": "python",
   "name": "python3"
  },
  "language_info": {
   "codemirror_mode": {
    "name": "ipython",
    "version": 3
   },
   "file_extension": ".py",
   "mimetype": "text/x-python",
   "name": "python",
   "nbconvert_exporter": "python",
   "pygments_lexer": "ipython3",
   "version": "3.8.3"
  }
 },
 "nbformat": 4,
 "nbformat_minor": 5
}
