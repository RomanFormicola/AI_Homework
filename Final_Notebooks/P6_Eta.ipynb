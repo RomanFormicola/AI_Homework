{
 "cells": [
  {
   "cell_type": "markdown",
   "metadata": {},
   "source": [
    "## Project 6"
   ]
  },
  {
   "cell_type": "markdown",
   "metadata": {},
   "source": [
    "### Part A"
   ]
  },
  {
   "cell_type": "markdown",
   "metadata": {},
   "source": [
    "**1)** Eta - Roman Formicola, Andrew Peters, Paul Rayment"
   ]
  },
  {
   "cell_type": "markdown",
   "metadata": {},
   "source": [
    "**2)** Rule: $(I1, I2, I3, I4, I6 \\rightarrow I8)$"
   ]
  },
  {
   "cell_type": "markdown",
   "metadata": {},
   "source": [
    "**b)** "
   ]
  },
  {
   "cell_type": "markdown",
   "metadata": {},
   "source": [
    "$supp(I1 \\rightarrow I6) = 2$\n",
    "\n",
    "$conf(I1 \\rightarrow I6) = supp(I1 \\rightarrow I6) / supp(I1) = 2/3$\n",
    "\n",
    "$lift(I1 \\rightarrow I6) = P(I1 \\cap I6) / (P(I1) * P(I6)) = 10/9 \\approx 1.11$\n",
    "\n",
    "$conviction(I1 \\rightarrow I6) = (P(I1)*P(\\neg I6)) / P(I1\\neg I6) = (3/5)*(2/5) / (1/5) = 6/5$\n"
   ]
  },
  {
   "cell_type": "markdown",
   "metadata": {},
   "source": [
    "**3)**"
   ]
  },
  {
   "cell_type": "code",
   "execution_count": 10,
   "metadata": {},
   "outputs": [
    {
     "data": {
      "text/html": [
       "<style  type=\"text/css\" >\n",
       "</style><table id=\"T_b5bdd0dc_a38a_11eb_b58e_c916101ae82f\" ><caption>C1</caption><thead>    <tr>        <th class=\"blank level0\" ></th>        <th class=\"col_heading level0 col0\" >Item Sets</th>        <th class=\"col_heading level0 col1\" >Supp</th>    </tr></thead><tbody>\n",
       "                <tr>\n",
       "                        <th id=\"T_b5bdd0dc_a38a_11eb_b58e_c916101ae82flevel0_row0\" class=\"row_heading level0 row0\" >0</th>\n",
       "                        <td id=\"T_b5bdd0dc_a38a_11eb_b58e_c916101ae82frow0_col0\" class=\"data row0 col0\" >{M}</td>\n",
       "                        <td id=\"T_b5bdd0dc_a38a_11eb_b58e_c916101ae82frow0_col1\" class=\"data row0 col1\" >3</td>\n",
       "            </tr>\n",
       "            <tr>\n",
       "                        <th id=\"T_b5bdd0dc_a38a_11eb_b58e_c916101ae82flevel0_row1\" class=\"row_heading level0 row1\" >1</th>\n",
       "                        <td id=\"T_b5bdd0dc_a38a_11eb_b58e_c916101ae82frow1_col0\" class=\"data row1 col0\" >{O}</td>\n",
       "                        <td id=\"T_b5bdd0dc_a38a_11eb_b58e_c916101ae82frow1_col1\" class=\"data row1 col1\" >3</td>\n",
       "            </tr>\n",
       "            <tr>\n",
       "                        <th id=\"T_b5bdd0dc_a38a_11eb_b58e_c916101ae82flevel0_row2\" class=\"row_heading level0 row2\" >2</th>\n",
       "                        <td id=\"T_b5bdd0dc_a38a_11eb_b58e_c916101ae82frow2_col0\" class=\"data row2 col0\" >{N}</td>\n",
       "                        <td id=\"T_b5bdd0dc_a38a_11eb_b58e_c916101ae82frow2_col1\" class=\"data row2 col1\" >2</td>\n",
       "            </tr>\n",
       "            <tr>\n",
       "                        <th id=\"T_b5bdd0dc_a38a_11eb_b58e_c916101ae82flevel0_row3\" class=\"row_heading level0 row3\" >3</th>\n",
       "                        <td id=\"T_b5bdd0dc_a38a_11eb_b58e_c916101ae82frow3_col0\" class=\"data row3 col0\" >{K}</td>\n",
       "                        <td id=\"T_b5bdd0dc_a38a_11eb_b58e_c916101ae82frow3_col1\" class=\"data row3 col1\" >5</td>\n",
       "            </tr>\n",
       "            <tr>\n",
       "                        <th id=\"T_b5bdd0dc_a38a_11eb_b58e_c916101ae82flevel0_row4\" class=\"row_heading level0 row4\" >4</th>\n",
       "                        <td id=\"T_b5bdd0dc_a38a_11eb_b58e_c916101ae82frow4_col0\" class=\"data row4 col0\" >{E}</td>\n",
       "                        <td id=\"T_b5bdd0dc_a38a_11eb_b58e_c916101ae82frow4_col1\" class=\"data row4 col1\" >4</td>\n",
       "            </tr>\n",
       "            <tr>\n",
       "                        <th id=\"T_b5bdd0dc_a38a_11eb_b58e_c916101ae82flevel0_row5\" class=\"row_heading level0 row5\" >5</th>\n",
       "                        <td id=\"T_b5bdd0dc_a38a_11eb_b58e_c916101ae82frow5_col0\" class=\"data row5 col0\" >{Y}</td>\n",
       "                        <td id=\"T_b5bdd0dc_a38a_11eb_b58e_c916101ae82frow5_col1\" class=\"data row5 col1\" >3</td>\n",
       "            </tr>\n",
       "            <tr>\n",
       "                        <th id=\"T_b5bdd0dc_a38a_11eb_b58e_c916101ae82flevel0_row6\" class=\"row_heading level0 row6\" >6</th>\n",
       "                        <td id=\"T_b5bdd0dc_a38a_11eb_b58e_c916101ae82frow6_col0\" class=\"data row6 col0\" >{D}</td>\n",
       "                        <td id=\"T_b5bdd0dc_a38a_11eb_b58e_c916101ae82frow6_col1\" class=\"data row6 col1\" >1</td>\n",
       "            </tr>\n",
       "            <tr>\n",
       "                        <th id=\"T_b5bdd0dc_a38a_11eb_b58e_c916101ae82flevel0_row7\" class=\"row_heading level0 row7\" >7</th>\n",
       "                        <td id=\"T_b5bdd0dc_a38a_11eb_b58e_c916101ae82frow7_col0\" class=\"data row7 col0\" >{I}</td>\n",
       "                        <td id=\"T_b5bdd0dc_a38a_11eb_b58e_c916101ae82frow7_col1\" class=\"data row7 col1\" >1</td>\n",
       "            </tr>\n",
       "    </tbody></table>"
      ],
      "text/plain": [
       "<pandas.io.formats.style.Styler at 0x7f195104fe80>"
      ]
     },
     "execution_count": 10,
     "metadata": {},
     "output_type": "execute_result"
    }
   ],
   "source": [
    "import pandas as pd\n",
    "\n",
    "C1= [['{M}', 3], ['{O}', 3], ['{N}', 2], ['{K}', 5], ['{E}', 4], ['{Y}', 3], ['{D}', 1], ['{I}', 1]]\n",
    "df = pd.DataFrame(C1, columns=[\"Item Sets\", \"Supp\"])\n",
    "df.style.set_caption(\"C1\")"
   ]
  },
  {
   "cell_type": "code",
   "execution_count": 13,
   "metadata": {},
   "outputs": [
    {
     "data": {
      "text/html": [
       "<style  type=\"text/css\" >\n",
       "</style><table id=\"T_cbdc3174_a38a_11eb_b58e_c916101ae82f\" ><caption>L1</caption><thead>    <tr>        <th class=\"blank level0\" ></th>        <th class=\"col_heading level0 col0\" >Item Sets</th>        <th class=\"col_heading level0 col1\" >Supp</th>    </tr></thead><tbody>\n",
       "                <tr>\n",
       "                        <th id=\"T_cbdc3174_a38a_11eb_b58e_c916101ae82flevel0_row0\" class=\"row_heading level0 row0\" >0</th>\n",
       "                        <td id=\"T_cbdc3174_a38a_11eb_b58e_c916101ae82frow0_col0\" class=\"data row0 col0\" >{M}</td>\n",
       "                        <td id=\"T_cbdc3174_a38a_11eb_b58e_c916101ae82frow0_col1\" class=\"data row0 col1\" >3</td>\n",
       "            </tr>\n",
       "            <tr>\n",
       "                        <th id=\"T_cbdc3174_a38a_11eb_b58e_c916101ae82flevel0_row1\" class=\"row_heading level0 row1\" >1</th>\n",
       "                        <td id=\"T_cbdc3174_a38a_11eb_b58e_c916101ae82frow1_col0\" class=\"data row1 col0\" >{O}</td>\n",
       "                        <td id=\"T_cbdc3174_a38a_11eb_b58e_c916101ae82frow1_col1\" class=\"data row1 col1\" >3</td>\n",
       "            </tr>\n",
       "            <tr>\n",
       "                        <th id=\"T_cbdc3174_a38a_11eb_b58e_c916101ae82flevel0_row2\" class=\"row_heading level0 row2\" >2</th>\n",
       "                        <td id=\"T_cbdc3174_a38a_11eb_b58e_c916101ae82frow2_col0\" class=\"data row2 col0\" >{K}</td>\n",
       "                        <td id=\"T_cbdc3174_a38a_11eb_b58e_c916101ae82frow2_col1\" class=\"data row2 col1\" >5</td>\n",
       "            </tr>\n",
       "            <tr>\n",
       "                        <th id=\"T_cbdc3174_a38a_11eb_b58e_c916101ae82flevel0_row3\" class=\"row_heading level0 row3\" >3</th>\n",
       "                        <td id=\"T_cbdc3174_a38a_11eb_b58e_c916101ae82frow3_col0\" class=\"data row3 col0\" >{E}</td>\n",
       "                        <td id=\"T_cbdc3174_a38a_11eb_b58e_c916101ae82frow3_col1\" class=\"data row3 col1\" >4</td>\n",
       "            </tr>\n",
       "            <tr>\n",
       "                        <th id=\"T_cbdc3174_a38a_11eb_b58e_c916101ae82flevel0_row4\" class=\"row_heading level0 row4\" >4</th>\n",
       "                        <td id=\"T_cbdc3174_a38a_11eb_b58e_c916101ae82frow4_col0\" class=\"data row4 col0\" >{Y}</td>\n",
       "                        <td id=\"T_cbdc3174_a38a_11eb_b58e_c916101ae82frow4_col1\" class=\"data row4 col1\" >3</td>\n",
       "            </tr>\n",
       "    </tbody></table>"
      ],
      "text/plain": [
       "<pandas.io.formats.style.Styler at 0x7f1950fe9430>"
      ]
     },
     "execution_count": 13,
     "metadata": {},
     "output_type": "execute_result"
    }
   ],
   "source": [
    "L1= [['{M}', 3], ['{O}', 3],['{K}', 5], ['{E}', 4], ['{Y}', 3]]\n",
    "df = pd.DataFrame(L1, columns=[\"Item Sets\", \"Supp\"])\n",
    "df.style.set_caption(\"L1\")"
   ]
  },
  {
   "cell_type": "code",
   "execution_count": 14,
   "metadata": {},
   "outputs": [
    {
     "data": {
      "text/html": [
       "<style  type=\"text/css\" >\n",
       "</style><table id=\"T_23dd3cb0_a38b_11eb_b58e_c916101ae82f\" ><caption>C2</caption><thead>    <tr>        <th class=\"blank level0\" ></th>        <th class=\"col_heading level0 col0\" >Item Sets</th>        <th class=\"col_heading level0 col1\" >Supp</th>    </tr></thead><tbody>\n",
       "                <tr>\n",
       "                        <th id=\"T_23dd3cb0_a38b_11eb_b58e_c916101ae82flevel0_row0\" class=\"row_heading level0 row0\" >0</th>\n",
       "                        <td id=\"T_23dd3cb0_a38b_11eb_b58e_c916101ae82frow0_col0\" class=\"data row0 col0\" >{MO}</td>\n",
       "                        <td id=\"T_23dd3cb0_a38b_11eb_b58e_c916101ae82frow0_col1\" class=\"data row0 col1\" >1</td>\n",
       "            </tr>\n",
       "            <tr>\n",
       "                        <th id=\"T_23dd3cb0_a38b_11eb_b58e_c916101ae82flevel0_row1\" class=\"row_heading level0 row1\" >1</th>\n",
       "                        <td id=\"T_23dd3cb0_a38b_11eb_b58e_c916101ae82frow1_col0\" class=\"data row1 col0\" >{M,K}</td>\n",
       "                        <td id=\"T_23dd3cb0_a38b_11eb_b58e_c916101ae82frow1_col1\" class=\"data row1 col1\" >3</td>\n",
       "            </tr>\n",
       "            <tr>\n",
       "                        <th id=\"T_23dd3cb0_a38b_11eb_b58e_c916101ae82flevel0_row2\" class=\"row_heading level0 row2\" >2</th>\n",
       "                        <td id=\"T_23dd3cb0_a38b_11eb_b58e_c916101ae82frow2_col0\" class=\"data row2 col0\" >{M, E}</td>\n",
       "                        <td id=\"T_23dd3cb0_a38b_11eb_b58e_c916101ae82frow2_col1\" class=\"data row2 col1\" >2</td>\n",
       "            </tr>\n",
       "            <tr>\n",
       "                        <th id=\"T_23dd3cb0_a38b_11eb_b58e_c916101ae82flevel0_row3\" class=\"row_heading level0 row3\" >3</th>\n",
       "                        <td id=\"T_23dd3cb0_a38b_11eb_b58e_c916101ae82frow3_col0\" class=\"data row3 col0\" >{M, Y}</td>\n",
       "                        <td id=\"T_23dd3cb0_a38b_11eb_b58e_c916101ae82frow3_col1\" class=\"data row3 col1\" >2</td>\n",
       "            </tr>\n",
       "            <tr>\n",
       "                        <th id=\"T_23dd3cb0_a38b_11eb_b58e_c916101ae82flevel0_row4\" class=\"row_heading level0 row4\" >4</th>\n",
       "                        <td id=\"T_23dd3cb0_a38b_11eb_b58e_c916101ae82frow4_col0\" class=\"data row4 col0\" >{O, K}</td>\n",
       "                        <td id=\"T_23dd3cb0_a38b_11eb_b58e_c916101ae82frow4_col1\" class=\"data row4 col1\" >3</td>\n",
       "            </tr>\n",
       "            <tr>\n",
       "                        <th id=\"T_23dd3cb0_a38b_11eb_b58e_c916101ae82flevel0_row5\" class=\"row_heading level0 row5\" >5</th>\n",
       "                        <td id=\"T_23dd3cb0_a38b_11eb_b58e_c916101ae82frow5_col0\" class=\"data row5 col0\" >{O, E}</td>\n",
       "                        <td id=\"T_23dd3cb0_a38b_11eb_b58e_c916101ae82frow5_col1\" class=\"data row5 col1\" >3</td>\n",
       "            </tr>\n",
       "            <tr>\n",
       "                        <th id=\"T_23dd3cb0_a38b_11eb_b58e_c916101ae82flevel0_row6\" class=\"row_heading level0 row6\" >6</th>\n",
       "                        <td id=\"T_23dd3cb0_a38b_11eb_b58e_c916101ae82frow6_col0\" class=\"data row6 col0\" >{O, Y}</td>\n",
       "                        <td id=\"T_23dd3cb0_a38b_11eb_b58e_c916101ae82frow6_col1\" class=\"data row6 col1\" >2</td>\n",
       "            </tr>\n",
       "            <tr>\n",
       "                        <th id=\"T_23dd3cb0_a38b_11eb_b58e_c916101ae82flevel0_row7\" class=\"row_heading level0 row7\" >7</th>\n",
       "                        <td id=\"T_23dd3cb0_a38b_11eb_b58e_c916101ae82frow7_col0\" class=\"data row7 col0\" >{K, E}</td>\n",
       "                        <td id=\"T_23dd3cb0_a38b_11eb_b58e_c916101ae82frow7_col1\" class=\"data row7 col1\" >4</td>\n",
       "            </tr>\n",
       "            <tr>\n",
       "                        <th id=\"T_23dd3cb0_a38b_11eb_b58e_c916101ae82flevel0_row8\" class=\"row_heading level0 row8\" >8</th>\n",
       "                        <td id=\"T_23dd3cb0_a38b_11eb_b58e_c916101ae82frow8_col0\" class=\"data row8 col0\" >{K, Y}</td>\n",
       "                        <td id=\"T_23dd3cb0_a38b_11eb_b58e_c916101ae82frow8_col1\" class=\"data row8 col1\" >3</td>\n",
       "            </tr>\n",
       "            <tr>\n",
       "                        <th id=\"T_23dd3cb0_a38b_11eb_b58e_c916101ae82flevel0_row9\" class=\"row_heading level0 row9\" >9</th>\n",
       "                        <td id=\"T_23dd3cb0_a38b_11eb_b58e_c916101ae82frow9_col0\" class=\"data row9 col0\" >E, Y</td>\n",
       "                        <td id=\"T_23dd3cb0_a38b_11eb_b58e_c916101ae82frow9_col1\" class=\"data row9 col1\" >2</td>\n",
       "            </tr>\n",
       "    </tbody></table>"
      ],
      "text/plain": [
       "<pandas.io.formats.style.Styler at 0x7f1951003430>"
      ]
     },
     "execution_count": 14,
     "metadata": {},
     "output_type": "execute_result"
    }
   ],
   "source": [
    "C2= [['{MO}', 1], ['{M,K}', 3], ['{M, E}', 2], ['{M, Y}', 2], ['{O, K}', 3], ['{O, E}', 3], \n",
    "     ['{O, Y}', 2], ['{K, E}', 4], ['{K, Y}', 3], ['E, Y', 2]]\n",
    "df = pd.DataFrame(C2, columns=[\"Item Sets\", \"Supp\"])\n",
    "df.style.set_caption(\"C2\")"
   ]
  },
  {
   "cell_type": "code",
   "execution_count": 15,
   "metadata": {},
   "outputs": [
    {
     "data": {
      "text/html": [
       "<style  type=\"text/css\" >\n",
       "</style><table id=\"T_5a8d0fc4_a38b_11eb_b58e_c916101ae82f\" ><caption>L2</caption><thead>    <tr>        <th class=\"blank level0\" ></th>        <th class=\"col_heading level0 col0\" >Item Sets</th>        <th class=\"col_heading level0 col1\" >Supp</th>    </tr></thead><tbody>\n",
       "                <tr>\n",
       "                        <th id=\"T_5a8d0fc4_a38b_11eb_b58e_c916101ae82flevel0_row0\" class=\"row_heading level0 row0\" >0</th>\n",
       "                        <td id=\"T_5a8d0fc4_a38b_11eb_b58e_c916101ae82frow0_col0\" class=\"data row0 col0\" >{M,K}</td>\n",
       "                        <td id=\"T_5a8d0fc4_a38b_11eb_b58e_c916101ae82frow0_col1\" class=\"data row0 col1\" >3</td>\n",
       "            </tr>\n",
       "            <tr>\n",
       "                        <th id=\"T_5a8d0fc4_a38b_11eb_b58e_c916101ae82flevel0_row1\" class=\"row_heading level0 row1\" >1</th>\n",
       "                        <td id=\"T_5a8d0fc4_a38b_11eb_b58e_c916101ae82frow1_col0\" class=\"data row1 col0\" >{O, K}</td>\n",
       "                        <td id=\"T_5a8d0fc4_a38b_11eb_b58e_c916101ae82frow1_col1\" class=\"data row1 col1\" >3</td>\n",
       "            </tr>\n",
       "            <tr>\n",
       "                        <th id=\"T_5a8d0fc4_a38b_11eb_b58e_c916101ae82flevel0_row2\" class=\"row_heading level0 row2\" >2</th>\n",
       "                        <td id=\"T_5a8d0fc4_a38b_11eb_b58e_c916101ae82frow2_col0\" class=\"data row2 col0\" >{O, E}</td>\n",
       "                        <td id=\"T_5a8d0fc4_a38b_11eb_b58e_c916101ae82frow2_col1\" class=\"data row2 col1\" >3</td>\n",
       "            </tr>\n",
       "            <tr>\n",
       "                        <th id=\"T_5a8d0fc4_a38b_11eb_b58e_c916101ae82flevel0_row3\" class=\"row_heading level0 row3\" >3</th>\n",
       "                        <td id=\"T_5a8d0fc4_a38b_11eb_b58e_c916101ae82frow3_col0\" class=\"data row3 col0\" >{K, E}</td>\n",
       "                        <td id=\"T_5a8d0fc4_a38b_11eb_b58e_c916101ae82frow3_col1\" class=\"data row3 col1\" >4</td>\n",
       "            </tr>\n",
       "            <tr>\n",
       "                        <th id=\"T_5a8d0fc4_a38b_11eb_b58e_c916101ae82flevel0_row4\" class=\"row_heading level0 row4\" >4</th>\n",
       "                        <td id=\"T_5a8d0fc4_a38b_11eb_b58e_c916101ae82frow4_col0\" class=\"data row4 col0\" >{K, Y}</td>\n",
       "                        <td id=\"T_5a8d0fc4_a38b_11eb_b58e_c916101ae82frow4_col1\" class=\"data row4 col1\" >3</td>\n",
       "            </tr>\n",
       "    </tbody></table>"
      ],
      "text/plain": [
       "<pandas.io.formats.style.Styler at 0x7f1978d446a0>"
      ]
     },
     "execution_count": 15,
     "metadata": {},
     "output_type": "execute_result"
    }
   ],
   "source": [
    "L2= [['{M,K}', 3], ['{O, K}', 3], ['{O, E}', 3], \n",
    "     ['{K, E}', 4], ['{K, Y}', 3]]\n",
    "df = pd.DataFrame(L2, columns=[\"Item Sets\", \"Supp\"])\n",
    "df.style.set_caption(\"L2\")"
   ]
  },
  {
   "cell_type": "code",
   "execution_count": 16,
   "metadata": {},
   "outputs": [
    {
     "data": {
      "text/html": [
       "<style  type=\"text/css\" >\n",
       "</style><table id=\"T_73031896_a38b_11eb_b58e_c916101ae82f\" ><caption>C3</caption><thead>    <tr>        <th class=\"blank level0\" ></th>        <th class=\"col_heading level0 col0\" >Item Sets</th>        <th class=\"col_heading level0 col1\" >Supp</th>    </tr></thead><tbody>\n",
       "                <tr>\n",
       "                        <th id=\"T_73031896_a38b_11eb_b58e_c916101ae82flevel0_row0\" class=\"row_heading level0 row0\" >0</th>\n",
       "                        <td id=\"T_73031896_a38b_11eb_b58e_c916101ae82frow0_col0\" class=\"data row0 col0\" >{O, K, E}</td>\n",
       "                        <td id=\"T_73031896_a38b_11eb_b58e_c916101ae82frow0_col1\" class=\"data row0 col1\" >3</td>\n",
       "            </tr>\n",
       "    </tbody></table>"
      ],
      "text/plain": [
       "<pandas.io.formats.style.Styler at 0x7f1950ff3370>"
      ]
     },
     "execution_count": 16,
     "metadata": {},
     "output_type": "execute_result"
    }
   ],
   "source": [
    "C3= [['{O, K, E}', 3]]\n",
    "df = pd.DataFrame(C3, columns=[\"Item Sets\", \"Supp\"])\n",
    "df.style.set_caption(\"C3\")"
   ]
  },
  {
   "cell_type": "code",
   "execution_count": 17,
   "metadata": {},
   "outputs": [
    {
     "data": {
      "text/html": [
       "<style  type=\"text/css\" >\n",
       "</style><table id=\"T_7fa25cf6_a38b_11eb_b58e_c916101ae82f\" ><caption>L3</caption><thead>    <tr>        <th class=\"blank level0\" ></th>        <th class=\"col_heading level0 col0\" >Item Sets</th>        <th class=\"col_heading level0 col1\" >Supp</th>    </tr></thead><tbody>\n",
       "                <tr>\n",
       "                        <th id=\"T_7fa25cf6_a38b_11eb_b58e_c916101ae82flevel0_row0\" class=\"row_heading level0 row0\" >0</th>\n",
       "                        <td id=\"T_7fa25cf6_a38b_11eb_b58e_c916101ae82frow0_col0\" class=\"data row0 col0\" >{O, K, E}</td>\n",
       "                        <td id=\"T_7fa25cf6_a38b_11eb_b58e_c916101ae82frow0_col1\" class=\"data row0 col1\" >3</td>\n",
       "            </tr>\n",
       "    </tbody></table>"
      ],
      "text/plain": [
       "<pandas.io.formats.style.Styler at 0x7f1950fe9400>"
      ]
     },
     "execution_count": 17,
     "metadata": {},
     "output_type": "execute_result"
    }
   ],
   "source": [
    "L3= [['{O, K, E}', 3]]\n",
    "df = pd.DataFrame(L3, columns=[\"Item Sets\", \"Supp\"])\n",
    "df.style.set_caption(\"L3\")"
   ]
  },
  {
   "cell_type": "markdown",
   "metadata": {},
   "source": [
    "Frequent Itemsets = {M}, {O}, {K}, {E}, {Y}, {M, K}, {O, K}, {O, E}, {K, E}, {K, Y}, {O, K, E}"
   ]
  },
  {
   "cell_type": "markdown",
   "metadata": {},
   "source": [
    "### Part B"
   ]
  },
  {
   "cell_type": "code",
   "execution_count": 23,
   "metadata": {},
   "outputs": [
    {
     "data": {
      "text/html": [
       "<div>\n",
       "<style scoped>\n",
       "    .dataframe tbody tr th:only-of-type {\n",
       "        vertical-align: middle;\n",
       "    }\n",
       "\n",
       "    .dataframe tbody tr th {\n",
       "        vertical-align: top;\n",
       "    }\n",
       "\n",
       "    .dataframe thead th {\n",
       "        text-align: right;\n",
       "    }\n",
       "</style>\n",
       "<table border=\"1\" class=\"dataframe\">\n",
       "  <thead>\n",
       "    <tr style=\"text-align: right;\">\n",
       "      <th></th>\n",
       "      <th>support</th>\n",
       "      <th>itemsets</th>\n",
       "    </tr>\n",
       "  </thead>\n",
       "  <tbody>\n",
       "    <tr>\n",
       "      <th>0</th>\n",
       "      <td>0.8</td>\n",
       "      <td>(E)</td>\n",
       "    </tr>\n",
       "    <tr>\n",
       "      <th>1</th>\n",
       "      <td>1.0</td>\n",
       "      <td>(K)</td>\n",
       "    </tr>\n",
       "    <tr>\n",
       "      <th>2</th>\n",
       "      <td>0.6</td>\n",
       "      <td>(M)</td>\n",
       "    </tr>\n",
       "    <tr>\n",
       "      <th>3</th>\n",
       "      <td>0.6</td>\n",
       "      <td>(O)</td>\n",
       "    </tr>\n",
       "    <tr>\n",
       "      <th>4</th>\n",
       "      <td>0.6</td>\n",
       "      <td>(Y)</td>\n",
       "    </tr>\n",
       "    <tr>\n",
       "      <th>5</th>\n",
       "      <td>0.8</td>\n",
       "      <td>(E, K)</td>\n",
       "    </tr>\n",
       "    <tr>\n",
       "      <th>6</th>\n",
       "      <td>0.6</td>\n",
       "      <td>(E, O)</td>\n",
       "    </tr>\n",
       "    <tr>\n",
       "      <th>7</th>\n",
       "      <td>0.6</td>\n",
       "      <td>(M, K)</td>\n",
       "    </tr>\n",
       "    <tr>\n",
       "      <th>8</th>\n",
       "      <td>0.6</td>\n",
       "      <td>(O, K)</td>\n",
       "    </tr>\n",
       "    <tr>\n",
       "      <th>9</th>\n",
       "      <td>0.6</td>\n",
       "      <td>(K, Y)</td>\n",
       "    </tr>\n",
       "    <tr>\n",
       "      <th>10</th>\n",
       "      <td>0.6</td>\n",
       "      <td>(E, O, K)</td>\n",
       "    </tr>\n",
       "  </tbody>\n",
       "</table>\n",
       "</div>"
      ],
      "text/plain": [
       "    support   itemsets\n",
       "0       0.8        (E)\n",
       "1       1.0        (K)\n",
       "2       0.6        (M)\n",
       "3       0.6        (O)\n",
       "4       0.6        (Y)\n",
       "5       0.8     (E, K)\n",
       "6       0.6     (E, O)\n",
       "7       0.6     (M, K)\n",
       "8       0.6     (O, K)\n",
       "9       0.6     (K, Y)\n",
       "10      0.6  (E, O, K)"
      ]
     },
     "execution_count": 23,
     "metadata": {},
     "output_type": "execute_result"
    }
   ],
   "source": [
    "from mlxtend.preprocessing import TransactionEncoder\n",
    "from mlxtend.frequent_patterns import apriori\n",
    "\n",
    "dataset = [['M', 'O', 'N', 'K', 'E', 'Y'], \n",
    "           ['D', 'O', 'N', 'K', 'E', 'Y'],\n",
    "           ['M', 'A', 'K', 'E'],\n",
    "           ['M', 'U', 'C', 'K', 'Y'],\n",
    "           ['C', 'O', 'O', 'K', 'I', 'E']]\n",
    "te = TransactionEncoder()\n",
    "te_ary = te.fit(dataset).transform(dataset)\n",
    "df = pd.DataFrame(te_ary, columns=te.columns_)\n",
    "apriori(df, min_support=0.6, use_colnames=True)"
   ]
  }
 ],
 "metadata": {
  "kernelspec": {
   "display_name": "Python 3",
   "language": "python",
   "name": "python3"
  },
  "language_info": {
   "codemirror_mode": {
    "name": "ipython",
    "version": 3
   },
   "file_extension": ".py",
   "mimetype": "text/x-python",
   "name": "python",
   "nbconvert_exporter": "python",
   "pygments_lexer": "ipython3",
   "version": "3.8.3"
  }
 },
 "nbformat": 4,
 "nbformat_minor": 4
}
