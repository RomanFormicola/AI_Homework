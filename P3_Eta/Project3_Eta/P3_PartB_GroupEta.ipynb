{
 "cells": [
  {
   "cell_type": "code",
   "execution_count": 2,
   "metadata": {},
   "outputs": [],
   "source": [
    "import sklearn\n",
    "import matplotlib.pyplot as plt\n",
    "import pandas as pd\n",
    "import numpy as np"
   ]
  },
  {
   "cell_type": "markdown",
   "metadata": {},
   "source": [
    "## Question 4"
   ]
  },
  {
   "cell_type": "code",
   "execution_count": 3,
   "metadata": {},
   "outputs": [
    {
     "data": {
      "text/html": [
       "<div>\n",
       "<style scoped>\n",
       "    .dataframe tbody tr th:only-of-type {\n",
       "        vertical-align: middle;\n",
       "    }\n",
       "\n",
       "    .dataframe tbody tr th {\n",
       "        vertical-align: top;\n",
       "    }\n",
       "\n",
       "    .dataframe thead th {\n",
       "        text-align: right;\n",
       "    }\n",
       "</style>\n",
       "<table border=\"1\" class=\"dataframe\">\n",
       "  <thead>\n",
       "    <tr style=\"text-align: right;\">\n",
       "      <th></th>\n",
       "      <th>Threshold</th>\n",
       "      <th>Accuracy</th>\n",
       "      <th>True Pos Rate</th>\n",
       "      <th>False Pos Rate</th>\n",
       "    </tr>\n",
       "  </thead>\n",
       "  <tbody>\n",
       "    <tr>\n",
       "      <th></th>\n",
       "      <td>0.98</td>\n",
       "      <td>0.6</td>\n",
       "      <td>0.2</td>\n",
       "      <td>0.0</td>\n",
       "    </tr>\n",
       "    <tr>\n",
       "      <th></th>\n",
       "      <td>0.92</td>\n",
       "      <td>0.5</td>\n",
       "      <td>0.2</td>\n",
       "      <td>0.2</td>\n",
       "    </tr>\n",
       "    <tr>\n",
       "      <th></th>\n",
       "      <td>0.85</td>\n",
       "      <td>0.6</td>\n",
       "      <td>0.4</td>\n",
       "      <td>0.2</td>\n",
       "    </tr>\n",
       "    <tr>\n",
       "      <th></th>\n",
       "      <td>0.77</td>\n",
       "      <td>0.5</td>\n",
       "      <td>0.4</td>\n",
       "      <td>0.4</td>\n",
       "    </tr>\n",
       "    <tr>\n",
       "      <th></th>\n",
       "      <td>0.71</td>\n",
       "      <td>0.4</td>\n",
       "      <td>0.4</td>\n",
       "      <td>0.6</td>\n",
       "    </tr>\n",
       "    <tr>\n",
       "      <th></th>\n",
       "      <td>0.64</td>\n",
       "      <td>0.5</td>\n",
       "      <td>0.6</td>\n",
       "      <td>0.6</td>\n",
       "    </tr>\n",
       "    <tr>\n",
       "      <th></th>\n",
       "      <td>0.50</td>\n",
       "      <td>0.6</td>\n",
       "      <td>0.8</td>\n",
       "      <td>0.6</td>\n",
       "    </tr>\n",
       "    <tr>\n",
       "      <th></th>\n",
       "      <td>0.39</td>\n",
       "      <td>0.7</td>\n",
       "      <td>1.0</td>\n",
       "      <td>0.6</td>\n",
       "    </tr>\n",
       "    <tr>\n",
       "      <th></th>\n",
       "      <td>0.34</td>\n",
       "      <td>0.6</td>\n",
       "      <td>1.0</td>\n",
       "      <td>0.8</td>\n",
       "    </tr>\n",
       "    <tr>\n",
       "      <th></th>\n",
       "      <td>0.31</td>\n",
       "      <td>0.5</td>\n",
       "      <td>1.0</td>\n",
       "      <td>1.0</td>\n",
       "    </tr>\n",
       "  </tbody>\n",
       "</table>\n",
       "</div>"
      ],
      "text/plain": [
       "  Threshold  Accuracy  True Pos Rate  False Pos Rate\n",
       "       0.98       0.6            0.2             0.0\n",
       "       0.92       0.5            0.2             0.2\n",
       "       0.85       0.6            0.4             0.2\n",
       "       0.77       0.5            0.4             0.4\n",
       "       0.71       0.4            0.4             0.6\n",
       "       0.64       0.5            0.6             0.6\n",
       "       0.50       0.6            0.8             0.6\n",
       "       0.39       0.7            1.0             0.6\n",
       "       0.34       0.6            1.0             0.8\n",
       "       0.31       0.5            1.0             1.0"
      ]
     },
     "metadata": {},
     "output_type": "display_data"
    }
   ],
   "source": [
    "data = [(1, .98), (0, .92), (1, .85), (0, .77), (0, .71), (1, .64), (1, .5), (1, .39), (0, .34), (0, .31)]\n",
    "\n",
    "neg = pos = 5\n",
    "\n",
    "# [[thresh, TP, FP, TN, FN], ...]\n",
    "out = []\n",
    "for i in range(len(data)):\n",
    "    tp = fp = tn = fn = 0\n",
    "    thresh = data[i][1]\n",
    "    for n in range(len(data)):\n",
    "        if data[n][1] >= thresh:\n",
    "            if data[n][0] == 1: tp += 1\n",
    "            else: fp += 1\n",
    "        else:\n",
    "            if data[n][0] == 0: tn += 1\n",
    "            else: fn += 1\n",
    "    out += [[thresh, tp, fp, tn, fn]]\n",
    "    \n",
    "# [[thresh, TPR, FPR, acc], ...]\n",
    "out2 = []\n",
    "for i in range(len(data)):\n",
    "    acc = (out[i][1] + out[i][3]) / len(data)\n",
    "    tpr = out[i][1] / pos\n",
    "    fpr = out[i][2] / pos\n",
    "    \n",
    "    out2 += [[out[i][0], acc, tpr, fpr]]\n",
    "    \n",
    "out2 = pd.DataFrame(out2, columns=['Threshold', 'Accuracy', 'True Pos Rate', 'False Pos Rate'], \n",
    "                    index= ['' for i in range(10)])\n",
    "display(out2)\n"
   ]
  },
  {
   "cell_type": "markdown",
   "metadata": {},
   "source": [
    "## Question 5\n",
    "### ROC Curve"
   ]
  },
  {
   "cell_type": "code",
   "execution_count": 4,
   "metadata": {},
   "outputs": [
    {
     "data": {
      "image/png": "[encoded data removed]",
      "text/plain": [
       "<Figure size 720x720 with 1 Axes>"
      ]
     },
     "metadata": {
      "needs_background": "light"
     },
     "output_type": "display_data"
    }
   ],
   "source": [
    "plt.figure(figsize=(10,10))\n",
    "plt.scatter(out2['True Pos Rate'], out2['False Pos Rate'])\n",
    "\n",
    "plt.plot(out2['True Pos Rate'], out2['False Pos Rate'])\n",
    "plt.plot([0,1], [0,1])\n",
    "plt.xlabel('False Positive Rate')\n",
    "plt.ylabel('True Positive Rate')\n",
    "plt.xticks([.1 * i for i in range(11)])\n",
    "plt.yticks([.1 * i for i in range(11)])\n",
    "plt.title('ROC Curve')\n",
    "plt.margins(x=.01, y=0.01)\n",
    "\n",
    "plt.show()"
   ]
  },
  {
   "cell_type": "markdown",
   "metadata": {},
   "source": [
    "## Question 6\n",
    "### Part A"
   ]
  },
  {
   "cell_type": "code",
   "execution_count": 5,
   "metadata": {},
   "outputs": [
    {
     "ename": "FileNotFoundError",
     "evalue": "[Errno 2] No such file or directory: 'spam.csv'",
     "output_type": "error",
     "traceback": [
      "\u001b[0;31m---------------------------------------------------------------------------\u001b[0m",
      "\u001b[0;31mFileNotFoundError\u001b[0m                         Traceback (most recent call last)",
      "\u001b[0;32m<ipython-input-5-8fa01dc9b58a>\u001b[0m in \u001b[0;36m<module>\u001b[0;34m()\u001b[0m\n\u001b[1;32m      1\u001b[0m \u001b[0;31m# Import Data\u001b[0m\u001b[0;34m\u001b[0m\u001b[0;34m\u001b[0m\u001b[0;34m\u001b[0m\u001b[0m\n\u001b[0;32m----> 2\u001b[0;31m \u001b[0mdata\u001b[0m \u001b[0;34m=\u001b[0m \u001b[0mpd\u001b[0m\u001b[0;34m.\u001b[0m\u001b[0mread_csv\u001b[0m\u001b[0;34m(\u001b[0m\u001b[0;34m\"spam.csv\"\u001b[0m\u001b[0;34m)\u001b[0m\u001b[0;34m\u001b[0m\u001b[0;34m\u001b[0m\u001b[0m\n\u001b[0m\u001b[1;32m      3\u001b[0m \u001b[0mdata\u001b[0m \u001b[0;34m=\u001b[0m \u001b[0mdata\u001b[0m\u001b[0;34m.\u001b[0m\u001b[0mdrop\u001b[0m\u001b[0;34m(\u001b[0m\u001b[0;34m[\u001b[0m\u001b[0;34m'isuid'\u001b[0m\u001b[0;34m,\u001b[0m \u001b[0;34m'id'\u001b[0m\u001b[0;34m,\u001b[0m \u001b[0;34m'domain'\u001b[0m\u001b[0;34m,\u001b[0m \u001b[0;34m'spampct'\u001b[0m\u001b[0;34m,\u001b[0m \u001b[0;34m'category'\u001b[0m\u001b[0;34m,\u001b[0m \u001b[0;34m'cappct'\u001b[0m\u001b[0;34m]\u001b[0m\u001b[0;34m,\u001b[0m \u001b[0maxis\u001b[0m\u001b[0;34m=\u001b[0m\u001b[0;36m1\u001b[0m\u001b[0;34m)\u001b[0m\u001b[0;34m\u001b[0m\u001b[0;34m\u001b[0m\u001b[0m\n",
      "\u001b[0;32m/home/artemis/anaconda3/envs/datmin/lib/python3.6/site-packages/pandas/io/parsers.py\u001b[0m in \u001b[0;36mread_csv\u001b[0;34m(filepath_or_buffer, sep, delimiter, header, names, index_col, usecols, squeeze, prefix, mangle_dupe_cols, dtype, engine, converters, true_values, false_values, skipinitialspace, skiprows, skipfooter, nrows, na_values, keep_default_na, na_filter, verbose, skip_blank_lines, parse_dates, infer_datetime_format, keep_date_col, date_parser, dayfirst, cache_dates, iterator, chunksize, compression, thousands, decimal, lineterminator, quotechar, quoting, doublequote, escapechar, comment, encoding, dialect, error_bad_lines, warn_bad_lines, delim_whitespace, low_memory, memory_map, float_precision)\u001b[0m\n\u001b[1;32m    684\u001b[0m     )\n\u001b[1;32m    685\u001b[0m \u001b[0;34m\u001b[0m\u001b[0m\n\u001b[0;32m--> 686\u001b[0;31m     \u001b[0;32mreturn\u001b[0m \u001b[0m_read\u001b[0m\u001b[0;34m(\u001b[0m\u001b[0mfilepath_or_buffer\u001b[0m\u001b[0;34m,\u001b[0m \u001b[0mkwds\u001b[0m\u001b[0;34m)\u001b[0m\u001b[0;34m\u001b[0m\u001b[0;34m\u001b[0m\u001b[0m\n\u001b[0m\u001b[1;32m    687\u001b[0m \u001b[0;34m\u001b[0m\u001b[0m\n\u001b[1;32m    688\u001b[0m \u001b[0;34m\u001b[0m\u001b[0m\n",
      "\u001b[0;32m/home/artemis/anaconda3/envs/datmin/lib/python3.6/site-packages/pandas/io/parsers.py\u001b[0m in \u001b[0;36m_read\u001b[0;34m(filepath_or_buffer, kwds)\u001b[0m\n\u001b[1;32m    450\u001b[0m \u001b[0;34m\u001b[0m\u001b[0m\n\u001b[1;32m    451\u001b[0m     \u001b[0;31m# Create the parser.\u001b[0m\u001b[0;34m\u001b[0m\u001b[0;34m\u001b[0m\u001b[0;34m\u001b[0m\u001b[0m\n\u001b[0;32m--> 452\u001b[0;31m     \u001b[0mparser\u001b[0m \u001b[0;34m=\u001b[0m \u001b[0mTextFileReader\u001b[0m\u001b[0;34m(\u001b[0m\u001b[0mfp_or_buf\u001b[0m\u001b[0;34m,\u001b[0m \u001b[0;34m**\u001b[0m\u001b[0mkwds\u001b[0m\u001b[0;34m)\u001b[0m\u001b[0;34m\u001b[0m\u001b[0;34m\u001b[0m\u001b[0m\n\u001b[0m\u001b[1;32m    453\u001b[0m \u001b[0;34m\u001b[0m\u001b[0m\n\u001b[1;32m    454\u001b[0m     \u001b[0;32mif\u001b[0m \u001b[0mchunksize\u001b[0m \u001b[0;32mor\u001b[0m \u001b[0miterator\u001b[0m\u001b[0;34m:\u001b[0m\u001b[0;34m\u001b[0m\u001b[0;34m\u001b[0m\u001b[0m\n",
      "\u001b[0;32m/home/artemis/anaconda3/envs/datmin/lib/python3.6/site-packages/pandas/io/parsers.py\u001b[0m in \u001b[0;36m__init__\u001b[0;34m(self, f, engine, **kwds)\u001b[0m\n\u001b[1;32m    944\u001b[0m             \u001b[0mself\u001b[0m\u001b[0;34m.\u001b[0m\u001b[0moptions\u001b[0m\u001b[0;34m[\u001b[0m\u001b[0;34m\"has_index_names\"\u001b[0m\u001b[0;34m]\u001b[0m \u001b[0;34m=\u001b[0m \u001b[0mkwds\u001b[0m\u001b[0;34m[\u001b[0m\u001b[0;34m\"has_index_names\"\u001b[0m\u001b[0;34m]\u001b[0m\u001b[0;34m\u001b[0m\u001b[0;34m\u001b[0m\u001b[0m\n\u001b[1;32m    945\u001b[0m \u001b[0;34m\u001b[0m\u001b[0m\n\u001b[0;32m--> 946\u001b[0;31m         \u001b[0mself\u001b[0m\u001b[0;34m.\u001b[0m\u001b[0m_make_engine\u001b[0m\u001b[0;34m(\u001b[0m\u001b[0mself\u001b[0m\u001b[0;34m.\u001b[0m\u001b[0mengine\u001b[0m\u001b[0;34m)\u001b[0m\u001b[0;34m\u001b[0m\u001b[0;34m\u001b[0m\u001b[0m\n\u001b[0m\u001b[1;32m    947\u001b[0m \u001b[0;34m\u001b[0m\u001b[0m\n\u001b[1;32m    948\u001b[0m     \u001b[0;32mdef\u001b[0m \u001b[0mclose\u001b[0m\u001b[0;34m(\u001b[0m\u001b[0mself\u001b[0m\u001b[0;34m)\u001b[0m\u001b[0;34m:\u001b[0m\u001b[0;34m\u001b[0m\u001b[0;34m\u001b[0m\u001b[0m\n",
      "\u001b[0;32m/home/artemis/anaconda3/envs/datmin/lib/python3.6/site-packages/pandas/io/parsers.py\u001b[0m in \u001b[0;36m_make_engine\u001b[0;34m(self, engine)\u001b[0m\n\u001b[1;32m   1176\u001b[0m     \u001b[0;32mdef\u001b[0m \u001b[0m_make_engine\u001b[0m\u001b[0;34m(\u001b[0m\u001b[0mself\u001b[0m\u001b[0;34m,\u001b[0m \u001b[0mengine\u001b[0m\u001b[0;34m=\u001b[0m\u001b[0;34m\"c\"\u001b[0m\u001b[0;34m)\u001b[0m\u001b[0;34m:\u001b[0m\u001b[0;34m\u001b[0m\u001b[0;34m\u001b[0m\u001b[0m\n\u001b[1;32m   1177\u001b[0m         \u001b[0;32mif\u001b[0m \u001b[0mengine\u001b[0m \u001b[0;34m==\u001b[0m \u001b[0;34m\"c\"\u001b[0m\u001b[0;34m:\u001b[0m\u001b[0;34m\u001b[0m\u001b[0;34m\u001b[0m\u001b[0m\n\u001b[0;32m-> 1178\u001b[0;31m             \u001b[0mself\u001b[0m\u001b[0;34m.\u001b[0m\u001b[0m_engine\u001b[0m \u001b[0;34m=\u001b[0m \u001b[0mCParserWrapper\u001b[0m\u001b[0;34m(\u001b[0m\u001b[0mself\u001b[0m\u001b[0;34m.\u001b[0m\u001b[0mf\u001b[0m\u001b[0;34m,\u001b[0m \u001b[0;34m**\u001b[0m\u001b[0mself\u001b[0m\u001b[0;34m.\u001b[0m\u001b[0moptions\u001b[0m\u001b[0;34m)\u001b[0m\u001b[0;34m\u001b[0m\u001b[0;34m\u001b[0m\u001b[0m\n\u001b[0m\u001b[1;32m   1179\u001b[0m         \u001b[0;32melse\u001b[0m\u001b[0;34m:\u001b[0m\u001b[0;34m\u001b[0m\u001b[0;34m\u001b[0m\u001b[0m\n\u001b[1;32m   1180\u001b[0m             \u001b[0;32mif\u001b[0m \u001b[0mengine\u001b[0m \u001b[0;34m==\u001b[0m \u001b[0;34m\"python\"\u001b[0m\u001b[0;34m:\u001b[0m\u001b[0;34m\u001b[0m\u001b[0;34m\u001b[0m\u001b[0m\n",
      "\u001b[0;32m/home/artemis/anaconda3/envs/datmin/lib/python3.6/site-packages/pandas/io/parsers.py\u001b[0m in \u001b[0;36m__init__\u001b[0;34m(self, src, **kwds)\u001b[0m\n\u001b[1;32m   2006\u001b[0m         \u001b[0mkwds\u001b[0m\u001b[0;34m[\u001b[0m\u001b[0;34m\"usecols\"\u001b[0m\u001b[0;34m]\u001b[0m \u001b[0;34m=\u001b[0m \u001b[0mself\u001b[0m\u001b[0;34m.\u001b[0m\u001b[0musecols\u001b[0m\u001b[0;34m\u001b[0m\u001b[0;34m\u001b[0m\u001b[0m\n\u001b[1;32m   2007\u001b[0m \u001b[0;34m\u001b[0m\u001b[0m\n\u001b[0;32m-> 2008\u001b[0;31m         \u001b[0mself\u001b[0m\u001b[0;34m.\u001b[0m\u001b[0m_reader\u001b[0m \u001b[0;34m=\u001b[0m \u001b[0mparsers\u001b[0m\u001b[0;34m.\u001b[0m\u001b[0mTextReader\u001b[0m\u001b[0;34m(\u001b[0m\u001b[0msrc\u001b[0m\u001b[0;34m,\u001b[0m \u001b[0;34m**\u001b[0m\u001b[0mkwds\u001b[0m\u001b[0;34m)\u001b[0m\u001b[0;34m\u001b[0m\u001b[0;34m\u001b[0m\u001b[0m\n\u001b[0m\u001b[1;32m   2009\u001b[0m         \u001b[0mself\u001b[0m\u001b[0;34m.\u001b[0m\u001b[0munnamed_cols\u001b[0m \u001b[0;34m=\u001b[0m \u001b[0mself\u001b[0m\u001b[0;34m.\u001b[0m\u001b[0m_reader\u001b[0m\u001b[0;34m.\u001b[0m\u001b[0munnamed_cols\u001b[0m\u001b[0;34m\u001b[0m\u001b[0;34m\u001b[0m\u001b[0m\n\u001b[1;32m   2010\u001b[0m \u001b[0;34m\u001b[0m\u001b[0m\n",
      "\u001b[0;32mpandas/_libs/parsers.pyx\u001b[0m in \u001b[0;36mpandas._libs.parsers.TextReader.__cinit__\u001b[0;34m()\u001b[0m\n",
      "\u001b[0;32mpandas/_libs/parsers.pyx\u001b[0m in \u001b[0;36mpandas._libs.parsers.TextReader._setup_parser_source\u001b[0;34m()\u001b[0m\n",
      "\u001b[0;31mFileNotFoundError\u001b[0m: [Errno 2] No such file or directory: 'spam.csv'"
     ]
    }
   ],
   "source": [
    "# Import Data\n",
    "data = pd.read_csv(\"spam.csv\")\n",
    "data = data.drop(['isuid', 'id', 'domain', 'spampct', 'category', 'cappct'], axis=1)"
   ]
  },
  {
   "cell_type": "markdown",
   "metadata": {},
   "source": [
    "### Part B\n",
    "#### i."
   ]
  },
  {
   "cell_type": "code",
   "execution_count": null,
   "metadata": {},
   "outputs": [],
   "source": [
    "spamCount = 0\n",
    "for i in data['spam']:\n",
    "    if i == 'yes': spamCount += 1\n",
    "        \n",
    "print(\"%.2f%% of emails are spam.\" % (100*spamCount/len(data['spam'])))"
   ]
  },
  {
   "cell_type": "markdown",
   "metadata": {},
   "source": [
    "#### ii.\n",
    "The constant classifier will predict that 100% of emails are spam.\n",
    "#### iii.\n",
    "The constant classifier will have an error rate of 67.30%.\n",
    "\n",
    "### Part C"
   ]
  },
  {
   "cell_type": "code",
   "execution_count": null,
   "metadata": {},
   "outputs": [],
   "source": [
    "# Split Data into training and test groups\n",
    "from sklearn.model_selection import train_test_split\n",
    "from sklearn.preprocessing import OrdinalEncoder\n",
    "from sklearn import tree\n",
    "\n",
    "enc = OrdinalEncoder()\n",
    "enc.fit(data)\n",
    "ord_data = pd.DataFrame(enc.transform(data))\n",
    "\n",
    "data_train, data_test, spam_train, spam_test = train_test_split(ord_data.iloc[:, 0:14], ord_data[14], test_size=0.2, train_size=0.8, random_state=124)"
   ]
  },
  {
   "cell_type": "markdown",
   "metadata": {},
   "source": [
    "### Part D"
   ]
  },
  {
   "cell_type": "code",
   "execution_count": null,
   "metadata": {},
   "outputs": [],
   "source": [
    "# Display Decision Tree\n",
    "import graphviz\n",
    "\n",
    "out = tree.DecisionTreeClassifier()\n",
    "out = out.fit(data_train, spam_train)\n",
    "tree_graph = tree.export_graphviz(out, out_file=None,\n",
    "                                 feature_names=data.iloc[:, 0:14].columns,\n",
    "                                 filled = True, rounded=True,\n",
    "                                 special_characters = True)\n",
    "tree_graph = graphviz.Source(tree_graph)\n",
    "tree_graph"
   ]
  },
  {
   "cell_type": "markdown",
   "metadata": {},
   "source": [
    "### Part E\n",
    "    Gini value is the default selection criteria when learning the tree.\n",
    "### Part F"
   ]
  },
  {
   "cell_type": "code",
   "execution_count": null,
   "metadata": {},
   "outputs": [],
   "source": [
    "from sklearn import metrics\n",
    "#Accuracy = TP + TN / n\n",
    "#Sensitivity = TP / TP + FN\n",
    "#Specificity = TN / FP + TN\n",
    "#AUC\n",
    "predicted_train = out.predict(data_train)\n",
    "predicted_test = out.predict(data_test)\n",
    "\n",
    "matrix_train = metrics.confusion_matrix(spam_train, predicted_train)\n",
    "matrix_test = metrics.confusion_matrix(spam_test, predicted_test)\n",
    "\n",
    "acc_train = (matrix_train[1][1] + matrix_train[0][0]) / len(spam_train)\n",
    "sens_train = matrix_train[1][1] / (matrix_train[1][1] + matrix_train[1][0])\n",
    "spec_train = matrix_train[0][0] / (matrix_train[0][0] + matrix_train[0][1])\n",
    "auc_train = metrics.roc_auc_score(spam_train, predicted_train)\n",
    "\n",
    "acc_test = (matrix_test[1][1] + matrix_test[0][0]) / len(spam_test)\n",
    "sens_test = matrix_test[1][1] / (matrix_test[1][1] + matrix_test[1][0])\n",
    "spec_test = matrix_test[0][0] / (matrix_test[0][0] + matrix_test[0][1])\n",
    "auc_test = metrics.roc_auc_score(spam_test, predicted_test)\n",
    "\n",
    "performance_full = pd.DataFrame([[acc_train, sens_train, spec_train, auc_train],\n",
    "                                 [acc_test, sens_test, spec_test, auc_test]],\n",
    "                               columns = ['Accuracy', 'Sensitivity', 'Specificity', 'AUC'],\n",
    "                               index = ['Training Data', 'Testing Data'])\n",
    "performance_full"
   ]
  },
  {
   "cell_type": "markdown",
   "metadata": {},
   "source": [
    "### Part G"
   ]
  },
  {
   "cell_type": "code",
   "execution_count": null,
   "metadata": {},
   "outputs": [],
   "source": [
    "out = tree.DecisionTreeClassifier(max_depth=4)\n",
    "out = out.fit(data_train, spam_train)\n",
    "tree_graph = tree.export_graphviz(out, out_file=None,\n",
    "                                 feature_names=data.iloc[:, 0:14].columns,\n",
    "                                 filled = True, rounded=True,\n",
    "                                 special_characters = True)\n",
    "tree_graph = graphviz.Source(tree_graph)\n",
    "tree_graph"
   ]
  },
  {
   "cell_type": "code",
   "execution_count": null,
   "metadata": {},
   "outputs": [],
   "source": [
    "predicted_train = out.predict(data_train)\n",
    "predicted_test = out.predict(data_test)\n",
    "\n",
    "matrix_train = metrics.confusion_matrix(spam_train, predicted_train)\n",
    "matrix_test = metrics.confusion_matrix(spam_test, predicted_test)\n",
    "\n",
    "acc_train = (matrix_train[1][1] + matrix_train[0][0]) / len(spam_train)\n",
    "sens_train = matrix_train[1][1] / (matrix_train[1][1] + matrix_train[1][0])\n",
    "spec_train = matrix_train[0][0] / (matrix_train[0][0] + matrix_train[0][1])\n",
    "auc_train = metrics.roc_auc_score(spam_train, predicted_train)\n",
    "\n",
    "acc_test = (matrix_test[1][1] + matrix_test[0][0]) / len(spam_test)\n",
    "sens_test = matrix_test[1][1] / (matrix_test[1][1] + matrix_test[1][0])\n",
    "spec_test = matrix_test[0][0] / (matrix_test[0][0] + matrix_test[0][1])\n",
    "auc_test = metrics.roc_auc_score(spam_test, predicted_test)\n",
    "\n",
    "performance_trim = pd.DataFrame([[acc_train, sens_train, spec_train, auc_train],\n",
    "                                 [acc_test, sens_test, spec_test, auc_test]],\n",
    "                               columns = ['Accuracy', 'Sensitivity', 'Specificity', 'AUC'],\n",
    "                               index = ['Training Data', 'Testing Data'])\n",
    "performance_trim"
   ]
  },
  {
   "cell_type": "markdown",
   "metadata": {},
   "source": [
    "## Question 7: "
   ]
  },
  {
   "cell_type": "markdown",
   "metadata": {},
   "source": [
    "a)"
   ]
  },
  {
   "cell_type": "code",
   "execution_count": null,
   "metadata": {},
   "outputs": [],
   "source": [
    "from sklearn.model_selection import StratifiedKFold\n",
    "from sklearn.preprocessing import OrdinalEncoder\n",
    "from sklearn.preprocessing import MinMaxScaler\n",
    "from sklearn.neighbors import KNeighborsClassifier\n",
    "from sklearn.tree import DecisionTreeClassifier\n",
    "from sklearn.naive_bayes import GaussianNB\n",
    "from sklearn import metrics\n",
    "import pandas as pd\n",
    "import numpy as np"
   ]
  },
  {
   "cell_type": "code",
   "execution_count": null,
   "metadata": {},
   "outputs": [],
   "source": [
    "def spec_test(y, y_pred):\n",
    "    if(len(y) != len(y_pred)):\n",
    "        print( \"Error in spec_score\")\n",
    "        exit(-1)\n",
    "    fp = 0.\n",
    "    tn = 0.\n",
    "    for i in range(len(y_pred)):\n",
    "        if y_pred[i] == 0 and y[i] == 0:\n",
    "            tn += 1\n",
    "        elif y_pred[i] == 1 and y[i] == 0:\n",
    "            fp += 1\n",
    "    \n",
    "    return tn / (fp + tn)"
   ]
  },
  {
   "cell_type": "code",
   "execution_count": null,
   "metadata": {},
   "outputs": [],
   "source": [
    "import csv\n",
    "\n",
    "spam = []\n",
    "with open('spam.csv') as csv_file:\n",
    "    spam_file = csv.reader(csv_file, delimiter=',')\n",
    "    linenum = 0;\n",
    "    for row in spam_file:\n",
    "        if(linenum != 0):\n",
    "            spam.append(row)\n",
    "        linenum += 1\n",
    "\n",
    "\n",
    "#Transform Data to numeric type\n",
    "enc = OrdinalEncoder()\n",
    "enc.fit(spam)\n",
    "t_spam = enc.transform(spam)\n",
    "\n",
    "#Scale Data [0, 1]\n",
    "scaler = MinMaxScaler()\n",
    "scaler.fit(t_spam)\n",
    "s_spam = scaler.transform(t_spam)\n",
    "\n",
    "#Split data and target vector\n",
    "y = np.array(s_spam.T[len(s_spam[0]) - 1]) #target vector\n",
    "x = np.delete(s_spam, len(s_spam[0]) - 1, 1) #data\n",
    "\n",
    "\n",
    "skf = StratifiedKFold(n_splits=10)\n",
    "skf.get_n_splits(x, y)\n",
    "\n",
    "train_data = []\n",
    "test_data = []\n",
    "for train_i, test_i in skf.split(x, y):\n",
    "    x_train, x_test = x[train_i], x[test_i]\n",
    "    y_train, y_test = y[train_i], y[test_i]\n",
    "    train_data.append((x_train, y_train))\n",
    "    test_data.append((x_test, y_test))"
   ]
  },
  {
   "cell_type": "markdown",
   "metadata": {},
   "source": [
    "b)"
   ]
  },
  {
   "cell_type": "code",
   "execution_count": null,
   "metadata": {},
   "outputs": [],
   "source": [
    "\n",
    "model_array = [ KNeighborsClassifier(n_neighbors = 3), \n",
    "                KNeighborsClassifier(n_neighbors = 7),\n",
    "                KNeighborsClassifier(n_neighbors = 11),\n",
    "                KNeighborsClassifier(n_neighbors = 15),\n",
    "                DecisionTreeClassifier(max_depth = 5),\n",
    "                DecisionTreeClassifier(criterion = \"entropy\", max_depth = 100, min_samples_split = 25),\n",
    "                GaussianNB()]\n",
    "\n",
    "for model in model_array:\n",
    "    print(model)\n",
    "    total_accuracy = 0.\n",
    "    total_auc = 0.\n",
    "    total_recall = 0.\n",
    "    total_spec = 0.\n",
    "    split_stats = []\n",
    "    for i in range(len(train_data)):\n",
    "        model.fit(train_data[i][0], train_data[i][1])\n",
    "        y_pred = model.predict(test_data[i][0])\n",
    "        \n",
    "        acc_score = metrics.accuracy_score(test_data[i][1], y_pred)\n",
    "        auc_score = metrics.roc_auc_score(test_data[i][1], y_pred)\n",
    "        recall_score = metrics.recall_score(test_data[i][1], y_pred)\n",
    "        spec_score = spec_test(test_data[i][1], y_pred)\n",
    "        \n",
    "        total_accuracy += acc_score\n",
    "        total_auc += auc_score\n",
    "        total_recall += recall_score\n",
    "        total_spec += spec_score\n",
    "        \n",
    "        split_stats.append([acc_score, auc_score, recall_score, spec_score])\n",
    "    \n",
    "\n",
    "    split_stats.append([total_accuracy / 10, total_auc / 10 , total_recall / 10, total_spec / 10])\n",
    "    display(pd.DataFrame(split_stats,\n",
    "                  columns = ['Accuracy', 'AUC', 'Recall', 'Specificity'],\n",
    "                  index = [1, 2, 3, 4, 5, 6, 7, 8, 9, 10, 'Averages']))\n",
    "\n",
    "    "
   ]
  },
  {
   "cell_type": "code",
   "execution_count": null,
   "metadata": {},
   "outputs": [],
   "source": []
  }
 ],
 "metadata": {
  "kernelspec": {
   "display_name": "Python 3",
   "language": "python",
   "name": "python3"
  },
  "language_info": {
   "codemirror_mode": {
    "name": "ipython",
    "version": 3
   },
   "file_extension": ".py",
   "mimetype": "text/x-python",
   "name": "python",
   "nbconvert_exporter": "python",
   "pygments_lexer": "ipython3",
   "version": "3.6.10"
  }
 },
 "nbformat": 4,
 "nbformat_minor": 4
}
